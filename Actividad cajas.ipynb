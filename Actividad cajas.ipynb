{
 "cells": [
  {
   "cell_type": "markdown",
   "id": "2e23d01a-86e8-4dee-8c14-1393ad789639",
   "metadata": {},
   "source": [
    "# -PPS-Unidad1Actividad3-albertoVG"
   ]
  },
  {
   "cell_type": "markdown",
   "id": "676fa14a-1b3c-40e2-a65e-014aee4e56e2",
   "metadata": {},
   "source": [
    "1. Clases de Equivalencia para isNumber y division\n",
    "\n",
    "# Clases de equivalencia para isNumber:\n",
    "\n",
    "Entrada válida: Cualquier valor numérico (int, float, str que represente un número como \"3.5\", \"42\", etc.).\n",
    "\n",
    "Entrada no válida: Cualquier valor no numérico (str como \"abc\", \"3a\", etc., o valores como None).\n",
    "\n",
    "# Clases de equivalencia para division:\n",
    "\n",
    "División válida: b ≠ 0.\n",
    "\n",
    "División inválida: b = 0 (debe devolver \"Error: División por cero no permitida.\")."
   ]
  },
  {
   "cell_type": "markdown",
   "id": "c61b1ba4-582e-4bec-af83-69a23af8cd6f",
   "metadata": {},
   "source": [
    "2. Grafo de flujo para division y multiplicacion\n",
    "\n",
    "# Grafo de flujo para division\n",
    "\n",
    "**Inicio**\n",
    "1. Condición: b == 0\n",
    "\n",
    "- Si es 0 -> Retorna mensaje de error.\n",
    "\n",
    "- Si es distinto de 0 -> Continúa.\n",
    "\n",
    "Realiza la división: a / b.\n",
    "\n",
    "# Grafo de flujo para multiplicacion\n",
    "\n",
    "**Inicio**\n",
    "\n",
    "Realiza la multiplicación: a * b.\n"
   ]
  },
  {
   "cell_type": "markdown",
   "id": "6726b20b-1d1e-44d5-b7c9-bb44ca15d38b",
   "metadata": {},
   "source": [
    "# Código de las Pruebas Unitarias\n",
    "\n",
    "## Aquí está el código de las pruebas:\n"
   ]
  },
  {
   "cell_type": "code",
   "execution_count": 19,
   "id": "701ea962-c760-4cee-a91f-f50f27e023f1",
   "metadata": {},
   "outputs": [
    {
     "ename": "IndentationError",
     "evalue": "unexpected indent (816834371.py, line 5)",
     "output_type": "error",
     "traceback": [
      "\u001b[0;36m  Cell \u001b[0;32mIn[19], line 5\u001b[0;36m\u001b[0m\n\u001b[0;31m    def test_isNumber_valores_validos(self):\u001b[0m\n\u001b[0m    ^\u001b[0m\n\u001b[0;31mIndentationError\u001b[0m\u001b[0;31m:\u001b[0m unexpected indent\n"
     ]
    }
   ],
   "source": [
    "import unittest\n",
    "import Calculadora\n",
    "\n",
    "ca = Calculadora\n",
    "\n",
    "class TestIsNumberCajaNegra(unittest.TestCase):\n",
    "\n",
    "    def test_integer(self):\n",
    "        self.assertTrue(ca.isnumber(1))\n",
    "        self.assertTrue(ca.isnumber(-1))\n",
    "        self.assertTrue(ca.isnumber(0))\n",
    "        self.assertTrue(ca.isnumber(3))\n",
    "        \n",
    "    def test_great_integer(self):\n",
    "        self.assertTrue(ca.isnumber(1111111111111111111111111111111111111111111111111111111111111111111111))\n",
    "\n",
    "    def test_float(self):\n",
    "        self.assertTrue(ca.isnumber(1.5))\n",
    "        self.assertTrue(ca.isnumber(-1.5))\n",
    "        self.assertTrue(ca.isnumber(-0))\n",
    "        self.assertTrue(ca.isnumber(0.00000000000000000000000000000000000000001))\n",
    "\n",
    "    def test_string_number(self):\n",
    "        self.assertTrue(ca.isnumber(\"2.5\"))\n",
    "        self.assertTrue(ca.isnumber(\"2\"))\n",
    "        self.assertTrue(ca.isnumber(\"0\"))\n",
    "\n",
    "    def test_string_non_number(self):\n",
    "        self.assertFalse(ca.isnumber(\"hello\"))\n",
    "        self.assertTrue(ca.isnumber(\"\"))\n",
    "\n",
    "    def test_none(self):\n",
    "        self.assertFalse(ca.isnumber(None))\n",
    "\n",
    "    def test_boolean(self):\n",
    "        self.assertTrue(ca.isnumber(True))\n",
    "        self.assertTrue(ca.isnumber(False))\n",
    "\n",
    "    # Pruebas para division (Caja Negra)\n",
    "    def test_division_valores_validos(self):\n",
    "        # Clases de equivalencia válidas\n",
    "    def test_Positivo(self):\n",
    "        self.assertEqual(ca.division(1,1),1)\n",
    "    def test_Divisor0(self):\n",
    "        self.assertFalse(ca.division(1,0),False)\n",
    "    def test_positivo(self):\n",
    "        self.assertFalse(ca.division(1,3),False)\n",
    "\n",
    "    def test_division_division_por_cero(self):\n",
    "        # Clase de equivalencia inválida\n",
    "        self.assertFalse(division(10, 0), \"Error: División por cero no permitida.\")\n",
    "\n",
    "    # Pruebas para multiplicacion (Caja Blanca)\n",
    "    def test_multiplicacion(self):\n",
    "        # Cobertura de rutas del código\n",
    "        self.assertTrue(multiplicacion(2, 3), 6)  # Números positivos\n",
    "        self.assertTrue(multiplicacion(-2, 3), -6)  # Número negativo\n",
    "        self.assertTrue(multiplicacion(0, 3), 0)  # Un número es 0\n",
    "        self.assertTrue(multiplicacion(2, 0), 0)  # El otro número es 0\n",
    "        self.assertTrue(multiplicacion(-2, -3), 6)  # Dos números negativos\n",
    "\n",
    "    if __name__ == '__main__':     \n",
    "    unittest.main(argv=['ignored', '-v'], exit=False)"
   ]
  },
  {
   "cell_type": "code",
   "execution_count": 28,
   "id": "a5302d09-283a-4017-aa1e-8fd0553fee79",
   "metadata": {},
   "outputs": [
    {
     "name": "stdout",
     "output_type": "stream",
     "text": [
      "Traceback (most recent call last):\n",
      "  File \"<frozen runpy>\", line 198, in _run_module_as_main\n",
      "  File \"<frozen runpy>\", line 88, in _run_code\n",
      "  File \"/usr/lib/python3.12/unittest/__main__.py\", line 18, in <module>\n",
      "    main(module=None)\n",
      "  File \"/usr/lib/python3.12/unittest/main.py\", line 104, in __init__\n",
      "    self.parseArgs(argv)\n",
      "  File \"/usr/lib/python3.12/unittest/main.py\", line 153, in parseArgs\n",
      "    self.createTests()\n",
      "  File \"/usr/lib/python3.12/unittest/main.py\", line 164, in createTests\n",
      "    self.test = self.testLoader.loadTestsFromNames(self.testNames,\n",
      "                ^^^^^^^^^^^^^^^^^^^^^^^^^^^^^^^^^^^^^^^^^^^^^^^^^^\n",
      "  File \"/usr/lib/python3.12/unittest/loader.py\", line 207, in loadTestsFromNames\n",
      "    suites = [self.loadTestsFromName(name, module) for name in names]\n",
      "              ^^^^^^^^^^^^^^^^^^^^^^^^^^^^^^^^^^^^\n",
      "  File \"/usr/lib/python3.12/unittest/loader.py\", line 137, in loadTestsFromName\n",
      "    module = __import__(module_name)\n",
      "             ^^^^^^^^^^^^^^^^^^^^^^^\n",
      "  File \"/home/alumno/PPS-Unidad1Actividad3-albertoVG/test.py\", line 42\n",
      "    def test_Positivo(self):\n",
      "    ^^^\n",
      "IndentationError: expected an indented block after function definition on line 40\n"
     ]
    }
   ],
   "source": [
    "!python3 -m unittest -v test.py"
   ]
  },
  {
   "cell_type": "markdown",
   "id": "1dc65331-ed70-4d94-a01e-b4cd85b78f17",
   "metadata": {},
   "source": [
    "4. Generación del Grafo de Flujo\n",
    "\n",
    "# Grafo para division:\n",
    "\n",
    "**Inicio**\n",
    "\n",
    "- Condición: b == 0\n",
    "\n",
    "- Si es verdadero → Retorna \"Error: División por cero no permitida.\"\n",
    "\n",
    "- Si es falso → Calcula a / b y retorna.\n",
    "\n",
    "# Grafo para multiplicacion:\n",
    "\n",
    "**Inicio**\n",
    "\n",
    "- Multiplica a * b.\n",
    "\n",
    "Retorna el resultado.\n"
   ]
  }
 ],
 "metadata": {
  "kernelspec": {
   "display_name": "Python 3 (ipykernel)",
   "language": "python",
   "name": "python3"
  },
  "language_info": {
   "codemirror_mode": {
    "name": "ipython",
    "version": 3
   },
   "file_extension": ".py",
   "mimetype": "text/x-python",
   "name": "python",
   "nbconvert_exporter": "python",
   "pygments_lexer": "ipython3",
   "version": "3.12.8"
  }
 },
 "nbformat": 4,
 "nbformat_minor": 5
}
